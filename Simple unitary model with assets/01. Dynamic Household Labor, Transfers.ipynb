{
 "cells": [
  {
   "attachments": {},
   "cell_type": "markdown",
   "metadata": {},
   "source": [
    "# Life-Cycle Labor Supply of Couples with Children"
   ]
  },
  {
   "cell_type": "markdown",
   "metadata": {},
   "source": [
    "## Setup"
   ]
  },
  {
   "cell_type": "code",
   "execution_count": null,
   "metadata": {},
   "outputs": [],
   "source": [
    "%load_ext autoreload\n",
    "%autoreload 2\n",
    "\n",
    "import numpy as np\n",
    "import numba as nb\n",
    "\n",
    "import matplotlib.pyplot as plt\n",
    "from mpl_toolkits import mplot3d"
   ]
  },
  {
   "cell_type": "markdown",
   "metadata": {},
   "source": [
    "# Dual-Earner Model with Children"
   ]
  },
  {
   "cell_type": "code",
   "execution_count": null,
   "metadata": {},
   "outputs": [],
   "source": [
    "# load local model file and initialize model class\n",
    "from DynHouseholdLaborModel import DynHouseholdLaborModelClass\n",
    "model = DynHouseholdLaborModelClass()\n",
    "\n",
    "par = model.par\n",
    "sol = model.sol\n",
    "sim = model.sim"
   ]
  },
  {
   "cell_type": "code",
   "execution_count": null,
   "metadata": {},
   "outputs": [],
   "source": [
    "%time model.solve()"
   ]
  },
  {
   "attachments": {},
   "cell_type": "markdown",
   "metadata": {},
   "source": [
    "# Simulate child-related transfers reforms"
   ]
  },
  {
   "cell_type": "code",
   "execution_count": null,
   "metadata": {},
   "outputs": [],
   "source": [
    "model.simulate()"
   ]
  },
  {
   "cell_type": "code",
   "execution_count": null,
   "metadata": {},
   "outputs": [],
   "source": [
    "# plot behavior\n",
    "for var in ('h1','h2','k1','k2','income1','income2'):\n",
    "    fig, ax = plt.subplots()\n",
    "    ax.scatter(range(par.simT),np.mean(getattr(sim,var),axis=0),label='Simulated')\n",
    "    ax.set(xlabel='period, t',ylabel=f'Avg. {var}',xticks=range(par.simT));"
   ]
  },
  {
   "cell_type": "code",
   "execution_count": null,
   "metadata": {},
   "outputs": [],
   "source": [
    "model_no_transfers = DynHouseholdLaborModelClass(par={'uncon_uni': 0.0, 'means_level': 0.0, 'means_slope': 0.0, 'cond':0.0, 'cond_high': 0.0})\n",
    "model_uncon_uni = DynHouseholdLaborModelClass(par={'uncon_uni': 1000.0, 'means_level': 0.0, 'means_slope': 0.0, 'cond':0.0, 'cond_high': 0.0})\n",
    "model_uncon_means = DynHouseholdLaborModelClass(par={'uncon_uni': 0.0, 'means_level': 1000.0, 'means_slope': 25.0, 'cond':0.0, 'cond_high': 0.0})\n",
    "model_con_uni = DynHouseholdLaborModelClass(par={'uncon_uni': 0.0, 'means_level': 0.0, 'means_slope': 0.0, 'cond':1000.0, 'cond_high': 0.0})\n",
    "model_con_means = DynHouseholdLaborModelClass(par={'uncon_uni': 0.0, 'means_level': 0.0, 'means_slope': 0.0, 'cond':1000.0, 'cond_high': -500.0})"
   ]
  },
  {
   "cell_type": "code",
   "execution_count": null,
   "metadata": {},
   "outputs": [],
   "source": [
    "model_no_transfers.solve()\n",
    "model_no_transfers.simulate()\n",
    "\n",
    "model_uncon_uni.solve()\n",
    "model_uncon_uni.simulate()\n",
    "\n",
    "model_uncon_means.solve()\n",
    "model_uncon_means.simulate()\n",
    "\n",
    "model_con_uni.solve()\n",
    "model_con_uni.simulate()\n",
    "\n",
    "model_con_means.solve()\n",
    "model_con_means.simulate()\n"
   ]
  },
  {
   "cell_type": "code",
   "execution_count": null,
   "metadata": {},
   "outputs": [],
   "source": [
    "\n",
    "\n",
    "# plot behavior\n",
    "for var in ('h1','h2','k1','k2','income1','income2', 'n'):\n",
    "    fig, ax = plt.subplots()\n",
    "    ax.scatter(range(par.simT),np.mean(getattr(model_no_transfers.sim,var),axis=0),label='no transfers')\n",
    "    ax.scatter(range(par.simT),np.mean(getattr(model_uncon_uni.sim,var),axis=0),label='uncon_uni', marker = 'x')\n",
    "    ax.scatter(range(par.simT),np.mean(getattr(model_uncon_means.sim,var),axis=0),label='uncon_means')\n",
    "    ax.scatter(range(par.simT),np.mean(getattr(model_con_uni.sim,var),axis=0),label='con_uni')\n",
    "    ax.scatter(range(par.simT),np.mean(getattr(model_con_means.sim,var),axis=0),label='con_means')\n",
    "    ax.set(xlabel='period, t',ylabel=f'Avg. {var}',xticks=range(par.simT));\n",
    "    ax.legend();"
   ]
  }
 ],
 "metadata": {
  "kernelspec": {
   "display_name": "Python 3",
   "language": "python",
   "name": "python3"
  },
  "language_info": {
   "codemirror_mode": {
    "name": "ipython",
    "version": 3
   },
   "file_extension": ".py",
   "mimetype": "text/x-python",
   "name": "python",
   "nbconvert_exporter": "python",
   "pygments_lexer": "ipython3",
   "version": "3.11.7"
  },
  "toc-autonumbering": true,
  "vscode": {
   "interpreter": {
    "hash": "2a1ca330d9582a7d9f549c991d1ebe88efa30325a2a9c927421566fc2176e6bd"
   }
  }
 },
 "nbformat": 4,
 "nbformat_minor": 4
}
