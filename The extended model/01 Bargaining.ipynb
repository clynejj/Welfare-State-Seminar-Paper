{
 "cells": [
  {
   "attachments": {},
   "cell_type": "markdown",
   "metadata": {},
   "source": [
    "# Limited Commitment Model\n",
    "In this simple example, singlehood is absorbing and couples choose\n",
    "individual consumption, $c_{j,t}$ for $j\\in\\{w,m\\}$ and public consumption,\n",
    "$c_{t}$. Individual preferences are of the CES type,\n",
    "\\begin{align*}\n",
    "U_{j}(c_{j,t},c_{t}) & =\\frac{1}{1-\\rho_{j}}\\left(\\alpha_{1,j}c_{j,t}^{\\phi_{j}}+\\alpha_{2,j}c_{t}^{\\phi_{j}}\\right)^{1-\\rho_{j}}\n",
    "\\end{align*}\n",
    "and the household budget for a couple is\n",
    "$$\n",
    "A_{t}+c_{t}+c_{w,t}+c_{m,t}=RA_{t-1}+Y_{w,t}+Y_{m,t}\n",
    "$$\n",
    "where $Y_{j,t}$ is exogenous income of member $j$, and $A_{t-1}$\n",
    "is beginning of period $t$ wealth. In each period, the couple receives\n",
    "a random value of remaining as a couple, $\\psi_{t}$, which follows\n",
    "a unit-root process,\n",
    "$$\n",
    "\\psi_{t+1}=\\psi_{t}+\\varepsilon_{t+1}\n",
    "$$\n",
    "where $\\varepsilon_{t}\\sim iid\\mathcal{N}(0,\\sigma_{\\psi}^{2})$.\n",
    "This love-shock is the only source of uncertainty in the model. The\n",
    "state variables for a couple is then $\\mathcal{S}_{t}=(\\psi_{t},A_{t-1})$\n",
    "besides the bargaining power coming into the period, $\\mu_{t-1}$.\n",
    "\n",
    "**The value of entering a period as a couple** is then\n",
    "$$\n",
    "V_{j,t}^{m}(\\psi_{t},A_{t-1},\\mu_{t-1})=D_{t}^{\\star}V_{j,t}^{m\\rightarrow s}(\\kappa_{j}A_{t-1})+(1-D_{t}^{\\star})V_{j,t}^{m\\rightarrow m}(\\psi_{t},A_{t-1},\\mu_{t-1})\n",
    "$$\n",
    "where $\\kappa_{j}$ is the share of household wealth member $j$ gets\n",
    "in case of divorce ($\\kappa_{w}+\\kappa_{m}=1$). The choice to divorce,\n",
    "$D_{t}^{\\star}$, is discussed below.\n",
    "\n",
    "**The value of transitioning into singlehood** is\n",
    "\\begin{align*}\n",
    "V_{j,t}^{m\\rightarrow s}(A_{t-1}) & =\\max_{c_{j,t},c_{t}}U_{j}(c_{j,t},c_{t})+\\beta V_{j,t+1}^{s}(A_{t})\\\\\n",
    " & \\text{s.t.}\\\\\n",
    "A_{t} & =RA_{t-1}+Y_{j,t}-c_{t}-c_{j,t}\n",
    "\\end{align*}\n",
    "where $V_{j,t+1}^{s}(A_{t})=V_{j,t+1}^{m\\rightarrow s}(A_{t})$ since\n",
    "singlehood is absorbing.\n",
    "\n",
    "**The value of remaining married** is\n",
    "\\begin{align*}\n",
    "V_{j,t}^{m\\rightarrow m}(\\psi_{t},A_{t-1},\\mu_{t-1}) & =U_{j}(c_{j,t}^{\\star},c_{t}^{\\star})+\\psi_{t}+\\beta\\mathbb{E}_{t}[V_{j,t+1}^{m}(\\psi_{t+1},A_{t},\\mu_{t})]\\\\\n",
    " & \\text{s.t.}\\\\\n",
    "A_{t} & =RA_{t-1}+Y_{w,t}+Y_{m,t}-(c_{t}^{\\star}+c_{w,t}^{\\star}+c_{m,t}^{\\star})\\\\\n",
    "\\psi_{t+1} & =\\psi_{t}+\\varepsilon_{t+1}\n",
    "\\end{align*}\n",
    "where $(c_{w,t}^{\\star},c_{m,t}^{\\star},c_{t}^{\\star})$ and $\\mu_{t}$\n",
    "are found along with $D_{t}^{\\star}$ in the following way.\n",
    "\n",
    "Let the solution to a problem of couples, under the condition that\n",
    "they remain together taking the bargaining power, $\\mu$, be\n",
    "\\begin{align*}\n",
    "\\tilde{c}_{w,t}(\\mu),\\tilde{c}_{m,t}(\\mu),\\tilde{c}_{t}(\\mu) & =\\arg\\max_{c_{w,t},c_{m,t},c_{t}}\\mu v_{w,t}(\\psi_{t},A_{t-1},c_{w,t},c_{m,t},c_{t},\\mu)\\\\\n",
    " & +(1-\\mu)v_{m,t}(\\psi_{t},A_{t-1},c_{w,t},c_{m,t},c_{t},\\mu)\\\\\n",
    " & \\text{s.t.}\\\\\n",
    "A_{t} & =RA_{t-1}+Y_{w,t}+Y_{m,t}-(c_{t}+c_{w,t}+c_{m,t})\\\\\n",
    "\\psi_{t+1} & =\\psi_{t}+\\varepsilon_{t+1},\\:\\varepsilon_{t}\\sim iid\\mathcal{N}(0,\\sigma_{\\psi}^{2})\n",
    "\\end{align*}\n",
    "where the value-of-choice given some $\\mu$ is\n",
    "\\begin{align}\n",
    "v_{j,t}(\\psi_{t},A_{t-1},\\mu,c_{w,t},c_{m,t},c_{t}) & =U_{j}(c_{j,t},c_{t})+\\psi_{t}+\\beta\\mathbb{E}_{t}[V_{j,t+1}^{m}(\\psi_{t+1},A_{t},\\mu)].\n",
    "\\end{align}\n",
    "\n",
    "First, solve the unconstrained problem under the assumption that none\n",
    "of the participation constraints are violated, such that $\\mu=\\mu_{t}=\\mu_{t-1}$.\n",
    "This gives $\\tilde{c}_{w,t}(\\mu_{t-1}),\\tilde{c}_{m,t}(\\mu_{t-1}),\\tilde{c}_{t}(\\mu_{t-1})$\n",
    "and individual values of marriage as $v_{j,t}(\\psi_{t},A_{t-1},\\mu_{t-1},\\tilde{c}_{w,t}(\\mu_{t-1}),\\tilde{c}_{m,t}(\\mu_{t-1}),\\tilde{c}_{t}(\\mu_{t-1}))$. \n",
    "\n",
    "**Checking the Participation Constraint**\n",
    "Secondly, check the participation constraints for three cases. For\n",
    "this purpose let \n",
    "$$\n",
    "S_{j,t}(\\mu)=S_{j,t}(\\psi_{t},A_{t-1},\\mu,c_{w,t},c_{m,t},c_{t})=v_{j,t}(\\psi_{t},A_{t-1},\\mu,c_{w,t},c_{m,t},c_{t})-V_{j,t}^{m\\rightarrow s}(\\kappa_{j}A_{t-1})\n",
    "$$\n",
    "denote the marital surplus of household member $j$. The three cases\n",
    "are\n",
    "\n",
    "1. If $S_{j,t}(\\mu_{t-1})\\geq0$ for both $j=w,m$, they remain married\n",
    "and keep the bargaining power unchanged. In turn, I  have $\\mu_{t}=\\mu_{t-1}$,\n",
    "$(c_{w,t}^{\\star},c_{m,t}^{\\star},c_{t}^{\\star})=(\\tilde{c}_{w,t}(\\mu_{t-1}),\\tilde{c}_{m,t}(\\mu_{t-1}),\\tilde{c}_{t}(\\mu_{t-1}))$,\n",
    "and $D_{t}^{\\star}=0$.\n",
    "2. If $S_{j,t}(\\mu_{t-1})<0$ for both $j=w,m$, they divorce. In turn\n",
    "$D_{t}^{\\star}=1$ and only $V_{j,t}^{m\\rightarrow s}(A_{t-1})$ matters.\n",
    "3. If one household member, say the woman, has a negative marital surplus\n",
    "while the man has a positive marital surplus, they re-negotiate $\\mu_{t}$.\n",
    "They do so by finding the lowest value $\\tilde{\\mu}$ that solves $$ \\tilde{\\mu}:S_{w,t}(\\tilde{\\mu})=0 $$ \n",
    "making her just indifferent between remaining married and divorcing.\n",
    "If the man also has a positive surplus for this value, $S_{m,t}(\\tilde{\\mu})\\geq0$,\n",
    "they remain married and increase the bargaining power of the woman.\n",
    "In turn, $\\mu_{t}=\\tilde{\\mu}$, $(c_{w,t}^{\\star},c_{m,t}^{\\star},c_{t}^{\\star})=(\\tilde{c}_{w,t}(\\tilde{\\mu}),\\tilde{c}_{m,t}(\\tilde{\\mu}),\\tilde{c}_{t}(\\tilde{\\mu}))$,\n",
    "and $D_{t}^{\\star}=0$. If, on the other hand, $S_{m,t}(\\tilde{\\mu})<0$,\n",
    "there is no value of $\\mu$ that can sustain the marriage, and the\n",
    "couple sets $D_{t}^{\\star}=1$.\n"
   ]
  },
  {
   "cell_type": "code",
   "execution_count": 1,
   "metadata": {},
   "outputs": [],
   "source": [
    "%load_ext autoreload\n",
    "%autoreload 2\n",
    "\n",
    "import numpy as np\n",
    "from mpl_toolkits import mplot3d\n",
    "import matplotlib\n",
    "import matplotlib.pyplot as plt\n",
    "\n",
    "import Bargaining as brg\n",
    "\n",
    "# plot style\n",
    "linestyles = ['-','--','-.',':',':']\n",
    "markers = ['o','s','D','*','P']\n",
    "linewidth = 2\n",
    "font_size = 17\n",
    "font = {'size':font_size}\n",
    "matplotlib.rc('font', **font)\n",
    "\n",
    "plt.rcParams.update({'figure.max_open_warning': 0,'text.usetex': False})\n"
   ]
  },
  {
   "cell_type": "code",
   "execution_count": 2,
   "metadata": {},
   "outputs": [],
   "source": [
    "from Bargaining import HouseholdModelClass\n",
    "model = HouseholdModelClass()"
   ]
  },
  {
   "cell_type": "code",
   "execution_count": 3,
   "metadata": {},
   "outputs": [
    {
     "name": "stdout",
     "output_type": "stream",
     "text": [
      "t: 9\n"
     ]
    },
    {
     "name": "stderr",
     "output_type": "stream",
     "text": [
      "/Users/joshuaclyne/Library/Mobile Documents/com~apple~CloudDocs/2024/Dynamic programming/Dynamic-programming-term-paper-new/Josh from May 26/Bargaining.py:949: RuntimeWarning: divide by zero encountered in scalar divide\n",
      "  power_at_zero_m = par.grid_power[id] - Sm[id]/ratio_m\n",
      "/Users/joshuaclyne/Library/Mobile Documents/com~apple~CloudDocs/2024/Dynamic programming/Dynamic-programming-term-paper-new/Josh from May 26/Bargaining.py:950: RuntimeWarning: invalid value encountered in scalar multiply\n",
      "  Sw_at_zero_m = Sw[id] + ratio_w*( power_at_zero_m - par.grid_power[id] )\n",
      "/Users/joshuaclyne/anaconda3/lib/python3.11/site-packages/scipy/optimize/_optimize.py:404: RuntimeWarning: Values in x were outside bounds during a minimize step, clipping to bounds\n",
      "  warnings.warn(\"Values in x were outside bounds during a \"\n"
     ]
    },
    {
     "ename": "IndexError",
     "evalue": "index 2 is out of bounds for axis 6 with size 2",
     "output_type": "error",
     "traceback": [
      "\u001b[0;31m---------------------------------------------------------------------------\u001b[0m",
      "\u001b[0;31mIndexError\u001b[0m                                Traceback (most recent call last)",
      "Cell \u001b[0;32mIn[3], line 1\u001b[0m\n\u001b[0;32m----> 1\u001b[0m model\u001b[38;5;241m.\u001b[39msolve()\n",
      "File \u001b[0;32m~/Library/Mobile Documents/com~apple~CloudDocs/2024/Dynamic programming/Dynamic-programming-term-paper-new/Josh from May 26/Bargaining.py:306\u001b[0m, in \u001b[0;36mHouseholdModelClass.solve\u001b[0;34m(self)\u001b[0m\n\u001b[1;32m    304\u001b[0m     \u001b[38;5;28mprint\u001b[39m(\u001b[38;5;124mf\u001b[39m\u001b[38;5;124m\"\u001b[39m\u001b[38;5;124mt: \u001b[39m\u001b[38;5;132;01m{\u001b[39;00mt\u001b[38;5;132;01m}\u001b[39;00m\u001b[38;5;124m\"\u001b[39m)\n\u001b[1;32m    305\u001b[0m     \u001b[38;5;28mself\u001b[39m\u001b[38;5;241m.\u001b[39msolve_single(t)\n\u001b[0;32m--> 306\u001b[0m     \u001b[38;5;28mself\u001b[39m\u001b[38;5;241m.\u001b[39msolve_couple(t)\n\u001b[1;32m    308\u001b[0m \u001b[38;5;66;03m# total consumption\u001b[39;00m\n\u001b[1;32m    309\u001b[0m sol\u001b[38;5;241m.\u001b[39mC_tot_couple \u001b[38;5;241m=\u001b[39m sol\u001b[38;5;241m.\u001b[39mCw_priv_couple \u001b[38;5;241m+\u001b[39m sol\u001b[38;5;241m.\u001b[39mCm_priv_couple \u001b[38;5;241m+\u001b[39m sol\u001b[38;5;241m.\u001b[39mC_pub_couple\n",
      "File \u001b[0;32m~/Library/Mobile Documents/com~apple~CloudDocs/2024/Dynamic programming/Dynamic-programming-term-paper-new/Josh from May 26/Bargaining.py:466\u001b[0m, in \u001b[0;36mHouseholdModelClass.solve_couple\u001b[0;34m(self, t)\u001b[0m\n\u001b[1;32m    462\u001b[0m Sm \u001b[38;5;241m=\u001b[39m remain_Vm \u001b[38;5;241m-\u001b[39m sol\u001b[38;5;241m.\u001b[39mVm_single[idx_single_man]\n\u001b[1;32m    463\u001b[0m \u001b[38;5;66;03m#print(f\"Sw: {Sw}, Sm: {Sm}\")\u001b[39;00m\n\u001b[1;32m    464\u001b[0m \u001b[38;5;66;03m#print(f\"shape of Sw: {np.shape(Sw)}\")\u001b[39;00m\n\u001b[1;32m    465\u001b[0m \u001b[38;5;66;03m#print(f\"shape of Sm: {np.shape(Sm)}\")\u001b[39;00m\n\u001b[0;32m--> 466\u001b[0m check_participation_constraints(sol\u001b[38;5;241m.\u001b[39mpower_idx, sol\u001b[38;5;241m.\u001b[39mpower, Sw, Sm, idx_single_woman, idx_single_man, idx_couple, list_start_as_couple, list_remain_couple, list_trans_to_single, par)\n\u001b[1;32m    468\u001b[0m \u001b[38;5;66;03m# Save remain values\u001b[39;00m\n\u001b[1;32m    469\u001b[0m \u001b[38;5;28;01mfor\u001b[39;00m iP, power \u001b[38;5;129;01min\u001b[39;00m \u001b[38;5;28menumerate\u001b[39m(par\u001b[38;5;241m.\u001b[39mgrid_power):  \u001b[38;5;66;03m# Loop over different power levels!\u001b[39;00m\n",
      "File \u001b[0;32m~/Library/Mobile Documents/com~apple~CloudDocs/2024/Dynamic programming/Dynamic-programming-term-paper-new/Josh from May 26/Bargaining.py:971\u001b[0m, in \u001b[0;36mcheck_participation_constraints\u001b[0;34m(power_idx, power, Sw, Sm, idx_single_woman, idx_single_man, idx_couple, list_couple, list_raw, list_single, par)\u001b[0m\n\u001b[1;32m    969\u001b[0m \u001b[38;5;28;01melse\u001b[39;00m: \u001b[38;5;66;03m# divorce\u001b[39;00m\n\u001b[1;32m    970\u001b[0m     \u001b[38;5;28;01mfor\u001b[39;00m i, key \u001b[38;5;129;01min\u001b[39;00m \u001b[38;5;28menumerate\u001b[39m(list_couple):\n\u001b[0;32m--> 971\u001b[0m         list_couple[i][idx] \u001b[38;5;241m=\u001b[39m list_single[i][idx_single_woman]\n\u001b[1;32m    972\u001b[0m         list_couple[i][idx] \u001b[38;5;241m=\u001b[39m list_single[i][idx_single_man]\n\u001b[1;32m    974\u001b[0m     \u001b[38;5;28;01mif\u001b[39;00m \u001b[38;5;28mall\u001b[39m(x \u001b[38;5;241m<\u001b[39m s \u001b[38;5;28;01mfor\u001b[39;00m x, s \u001b[38;5;129;01min\u001b[39;00m \u001b[38;5;28mzip\u001b[39m(idx, power_idx\u001b[38;5;241m.\u001b[39mshape)):\n",
      "\u001b[0;31mIndexError\u001b[0m: index 2 is out of bounds for axis 6 with size 2"
     ]
    }
   ],
   "source": [
    "model.solve()"
   ]
  },
  {
   "cell_type": "code",
   "execution_count": null,
   "metadata": {},
   "outputs": [],
   "source": [
    "model.solve_couple(9)"
   ]
  },
  {
   "cell_type": "code",
   "execution_count": null,
   "metadata": {},
   "outputs": [],
   "source": [
    "model.value_of_choice_couple(0.32752066, 0.5, 5, 0.9,2, 2, 1,2,0.5,0.2, 0.2, 0)"
   ]
  },
  {
   "cell_type": "code",
   "execution_count": null,
   "metadata": {},
   "outputs": [],
   "source": [
    "model.solve_single(t=9)"
   ]
  },
  {
   "cell_type": "code",
   "execution_count": null,
   "metadata": {},
   "outputs": [],
   "source": [
    "model.intraperiod_allocation(0.5,1,-0.1,par)"
   ]
  },
  {
   "cell_type": "code",
   "execution_count": null,
   "metadata": {},
   "outputs": [],
   "source": [
    "print(model)"
   ]
  },
  {
   "cell_type": "markdown",
   "metadata": {},
   "source": [
    "# Solve and simulate from alternative models"
   ]
  },
  {
   "cell_type": "code",
   "execution_count": null,
   "metadata": {},
   "outputs": [],
   "source": [
    "# settings for models to solve\n",
    "T = 8\n",
    "specs = {\n",
    "    'model 1':{'latexname':'$\\kappa_w=0.5$', 'par':{'sigma_love':0.1,'T':T,'div_A_share':0.5}},\n",
    "    'model 2':{'latexname':'$\\kappa_w=0.1$', 'par':{'sigma_love':0.1,'T':T,'div_A_share':0.1}},\n",
    "}\n"
   ]
  },
  {
   "cell_type": "markdown",
   "metadata": {},
   "source": [
    "# Simulated paths"
   ]
  },
  {
   "attachments": {},
   "cell_type": "markdown",
   "metadata": {},
   "source": [
    "**Questions:**\n",
    "1. Why is the average love in couple increasing over the life cycle?\n",
    "2. How does wealth accumulation depend on initial power and distribution upon divorce?"
   ]
  },
  {
   "cell_type": "code",
   "execution_count": null,
   "metadata": {},
   "outputs": [],
   "source": [
    "var_list = ('power','love','couple','Cw_priv','Cm_priv','Cw_pub','C_tot','A')\n",
    "model_list = ('model 1','model 2')\n",
    "\n",
    "par = models[name].par\n",
    "for init_power_idx in (5,10):\n",
    "    for init_love in (0.0,0.2): \n",
    "        string = f'init. power:{par.grid_power[init_power_idx]:2.3f}, love:{init_love:2.2f}'\n",
    "\n",
    "        for i,name in enumerate(model_list):\n",
    "            model = models[name]\n",
    "\n",
    "            # show how starting of in a low bargaining power gradually improves\n",
    "            model.sim.init_power_idx[:] = init_power_idx\n",
    "            model.sim.init_love[:] = init_love \n",
    "            model.simulate()\n",
    "            \n",
    "        for var in var_list:\n",
    "\n",
    "            fig, ax = plt.subplots()\n",
    "            \n",
    "            for i,name in enumerate(model_list):\n",
    "                model = models[name]\n",
    "\n",
    "                # pick out couples (if not the share of couples is plotted)\n",
    "                if var == 'couple':\n",
    "                    nan = 0.0\n",
    "                else:\n",
    "                    I = model.sim.couple<1\n",
    "                    nan = np.zeros(I.shape)\n",
    "                    nan[I] = np.nan\n",
    "\n",
    "                # pick relevant variable for couples\n",
    "                y = getattr(model.sim,var)        \n",
    "                y = np.nanmean(y + nan,axis=0)\n",
    "\n",
    "                ax.plot(y,marker=markers[i],linestyle=linestyles[i],linewidth=linewidth,label=model.spec['latexname']);\n",
    "                ax.set(xlabel='age',ylabel=f'{var}',title=string);\n",
    "\n",
    "            plt.legend()\n",
    "            plt.tight_layout()\n",
    "                "
   ]
  }
 ],
 "metadata": {
  "kernelspec": {
   "display_name": "base",
   "language": "python",
   "name": "python3"
  },
  "language_info": {
   "codemirror_mode": {
    "name": "ipython",
    "version": 3
   },
   "file_extension": ".py",
   "mimetype": "text/x-python",
   "name": "python",
   "nbconvert_exporter": "python",
   "pygments_lexer": "ipython3",
   "version": "3.11.7"
  },
  "vscode": {
   "interpreter": {
    "hash": "2a1ca330d9582a7d9f549c991d1ebe88efa30325a2a9c927421566fc2176e6bd"
   }
  }
 },
 "nbformat": 4,
 "nbformat_minor": 4
}
